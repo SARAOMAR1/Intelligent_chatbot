{
  "nbformat": 4,
  "nbformat_minor": 0,
  "metadata": {
    "colab": {
      "provenance": [],
      "gpuType": "T4"
    },
    "kernelspec": {
      "name": "python3",
      "display_name": "Python 3"
    },
    "language_info": {
      "name": "python"
    },
    "accelerator": "GPU"
  },
  "cells": [
    {
      "cell_type": "code",
      "execution_count": null,
      "metadata": {
        "colab": {
          "base_uri": "https://localhost:8080/"
        },
        "id": "D2yukANOhq18",
        "outputId": "08bb728f-838e-4258-ca55-6687d2064e1c"
      },
      "outputs": [
        {
          "output_type": "stream",
          "name": "stdout",
          "text": [
            "Patterns: ['Hi', 'Hey', 'Is anyone there?', 'Hi there', 'Hello']\n",
            "Responses: ['Hello there. Tell me how are you feeling today?', 'Hello there. Tell me how are you feeling today?', 'Hello there. Tell me how are you feeling today?', 'Hello there. Tell me how are you feeling today?', 'Hello there. Tell me how are you feeling today?']\n",
            "Number of patterns: 232\n",
            "Number of responses: 232\n"
          ]
        }
      ],
      "source": [
        "import json\n",
        "import pandas as pd\n",
        "\n",
        "# Load your dataset\n",
        "with open('/content/intents.json', 'r') as f:\n",
        "    data = json.load(f)\n",
        "\n",
        "# Prepare the data by merging patterns and responses\n",
        "pairs = []\n",
        "for intent in data['intents']:\n",
        "    for pattern in intent['patterns']:\n",
        "        for response in intent['responses']:\n",
        "            pairs.append(f\"User: {pattern}\\nBot: {response}\\n\")\n",
        "\n",
        "# Combine into a single text (this is useful for GPT-2 fine-tuning)\n",
        "training_text = \"\\n\".join(pairs)\n",
        "\n",
        "# Save the preprocessed data to a file\n",
        "with open(\"training_data.txt\", \"w\") as f:\n",
        "    f.write(training_text)\n"
      ]
    },
    {
      "cell_type": "code",
      "source": [
        "!pip install transformers datasets\n"
      ],
      "metadata": {
        "colab": {
          "base_uri": "https://localhost:8080/"
        },
        "id": "tcvSbuEUh-Yv",
        "outputId": "b6108a55-b16a-4b47-af58-f3977242cb83"
      },
      "execution_count": null,
      "outputs": [
        {
          "output_type": "stream",
          "name": "stdout",
          "text": [
            "Requirement already satisfied: transformers in /usr/local/lib/python3.10/dist-packages (4.44.2)\n",
            "Requirement already satisfied: datasets in /usr/local/lib/python3.10/dist-packages (3.0.1)\n",
            "Requirement already satisfied: filelock in /usr/local/lib/python3.10/dist-packages (from transformers) (3.16.1)\n",
            "Requirement already satisfied: huggingface-hub<1.0,>=0.23.2 in /usr/local/lib/python3.10/dist-packages (from transformers) (0.24.7)\n",
            "Requirement already satisfied: numpy>=1.17 in /usr/local/lib/python3.10/dist-packages (from transformers) (1.26.4)\n",
            "Requirement already satisfied: packaging>=20.0 in /usr/local/lib/python3.10/dist-packages (from transformers) (24.1)\n",
            "Requirement already satisfied: pyyaml>=5.1 in /usr/local/lib/python3.10/dist-packages (from transformers) (6.0.2)\n",
            "Requirement already satisfied: regex!=2019.12.17 in /usr/local/lib/python3.10/dist-packages (from transformers) (2024.9.11)\n",
            "Requirement already satisfied: requests in /usr/local/lib/python3.10/dist-packages (from transformers) (2.32.3)\n",
            "Requirement already satisfied: safetensors>=0.4.1 in /usr/local/lib/python3.10/dist-packages (from transformers) (0.4.5)\n",
            "Requirement already satisfied: tokenizers<0.20,>=0.19 in /usr/local/lib/python3.10/dist-packages (from transformers) (0.19.1)\n",
            "Requirement already satisfied: tqdm>=4.27 in /usr/local/lib/python3.10/dist-packages (from transformers) (4.66.5)\n",
            "Requirement already satisfied: pyarrow>=15.0.0 in /usr/local/lib/python3.10/dist-packages (from datasets) (16.1.0)\n",
            "Requirement already satisfied: dill<0.3.9,>=0.3.0 in /usr/local/lib/python3.10/dist-packages (from datasets) (0.3.8)\n",
            "Requirement already satisfied: pandas in /usr/local/lib/python3.10/dist-packages (from datasets) (2.2.2)\n",
            "Requirement already satisfied: xxhash in /usr/local/lib/python3.10/dist-packages (from datasets) (3.5.0)\n",
            "Requirement already satisfied: multiprocess in /usr/local/lib/python3.10/dist-packages (from datasets) (0.70.16)\n",
            "Requirement already satisfied: fsspec<=2024.6.1,>=2023.1.0 in /usr/local/lib/python3.10/dist-packages (from fsspec[http]<=2024.6.1,>=2023.1.0->datasets) (2024.6.1)\n",
            "Requirement already satisfied: aiohttp in /usr/local/lib/python3.10/dist-packages (from datasets) (3.10.9)\n",
            "Requirement already satisfied: aiohappyeyeballs>=2.3.0 in /usr/local/lib/python3.10/dist-packages (from aiohttp->datasets) (2.4.3)\n",
            "Requirement already satisfied: aiosignal>=1.1.2 in /usr/local/lib/python3.10/dist-packages (from aiohttp->datasets) (1.3.1)\n",
            "Requirement already satisfied: attrs>=17.3.0 in /usr/local/lib/python3.10/dist-packages (from aiohttp->datasets) (24.2.0)\n",
            "Requirement already satisfied: frozenlist>=1.1.1 in /usr/local/lib/python3.10/dist-packages (from aiohttp->datasets) (1.4.1)\n",
            "Requirement already satisfied: multidict<7.0,>=4.5 in /usr/local/lib/python3.10/dist-packages (from aiohttp->datasets) (6.1.0)\n",
            "Requirement already satisfied: yarl<2.0,>=1.12.0 in /usr/local/lib/python3.10/dist-packages (from aiohttp->datasets) (1.13.1)\n",
            "Requirement already satisfied: async-timeout<5.0,>=4.0 in /usr/local/lib/python3.10/dist-packages (from aiohttp->datasets) (4.0.3)\n",
            "Requirement already satisfied: typing-extensions>=3.7.4.3 in /usr/local/lib/python3.10/dist-packages (from huggingface-hub<1.0,>=0.23.2->transformers) (4.12.2)\n",
            "Requirement already satisfied: charset-normalizer<4,>=2 in /usr/local/lib/python3.10/dist-packages (from requests->transformers) (3.3.2)\n",
            "Requirement already satisfied: idna<4,>=2.5 in /usr/local/lib/python3.10/dist-packages (from requests->transformers) (3.10)\n",
            "Requirement already satisfied: urllib3<3,>=1.21.1 in /usr/local/lib/python3.10/dist-packages (from requests->transformers) (2.2.3)\n",
            "Requirement already satisfied: certifi>=2017.4.17 in /usr/local/lib/python3.10/dist-packages (from requests->transformers) (2024.8.30)\n",
            "Requirement already satisfied: python-dateutil>=2.8.2 in /usr/local/lib/python3.10/dist-packages (from pandas->datasets) (2.8.2)\n",
            "Requirement already satisfied: pytz>=2020.1 in /usr/local/lib/python3.10/dist-packages (from pandas->datasets) (2024.2)\n",
            "Requirement already satisfied: tzdata>=2022.7 in /usr/local/lib/python3.10/dist-packages (from pandas->datasets) (2024.2)\n",
            "Requirement already satisfied: six>=1.5 in /usr/local/lib/python3.10/dist-packages (from python-dateutil>=2.8.2->pandas->datasets) (1.16.0)\n"
          ]
        }
      ]
    },
    {
      "cell_type": "code",
      "source": [
        "# import torch\n",
        "# from transformers import GPT2Tokenizer, GPT2LMHeadModel, TextDataset, DataCollatorForLanguageModeling, Trainer, TrainingArguments\n",
        "\n",
        "# # Load the tokenizer and model\n",
        "# model_name = \"gpt2\"  # You can also use \"gpt2-medium\" or \"gpt2-large\"\n",
        "# tokenizer = GPT2Tokenizer.from_pretrained(model_name)\n",
        "# model = GPT2LMHeadModel.from_pretrained(model_name)\n",
        "\n",
        "# # Add a special token (if needed)\n",
        "# special_tokens_dict = {'pad_token': '<PAD>'}\n",
        "# tokenizer.add_special_tokens(special_tokens_dict)\n",
        "# model.resize_token_embeddings(len(tokenizer))\n",
        "\n",
        "# # Prepare the dataset\n",
        "# def load_dataset(file_path, tokenizer):\n",
        "#     dataset = TextDataset(\n",
        "#         tokenizer=tokenizer,\n",
        "#         file_path=file_path,\n",
        "#         block_size=128  # Max sequence length (you can adjust)\n",
        "#     )\n",
        "#     return dataset\n",
        "\n",
        "# # Load the dataset\n",
        "# train_dataset = load_dataset(\"training_data.txt\", tokenizer)\n",
        "\n",
        "# # Data collator for language modeling\n",
        "# data_collator = DataCollatorForLanguageModeling(\n",
        "#     tokenizer=tokenizer,\n",
        "#     mlm=False,  # GPT-2 is not trained for masked language modeling\n",
        "# )\n",
        "\n",
        "# # Training arguments\n",
        "# training_args = TrainingArguments(\n",
        "#     output_dir=\"./gpt2-finetuned\",\n",
        "#     overwrite_output_dir=True,\n",
        "#     num_train_epochs=50,  # Adjust based on your data size\n",
        "#     per_device_train_batch_size=2,\n",
        "#     save_steps=500,\n",
        "#     save_total_limit=2,\n",
        "#     logging_steps=100,\n",
        "# )\n",
        "\n",
        "# # Initialize the Trainer\n",
        "# trainer = Trainer(\n",
        "#     model=model,\n",
        "#     args=training_args,\n",
        "#     train_dataset=train_dataset,\n",
        "#     data_collator=data_collator,\n",
        "# )\n",
        "\n",
        "# # Train the model\n",
        "# trainer.train()\n"
      ],
      "metadata": {
        "id": "BaI8qYOPrJ9y"
      },
      "execution_count": null,
      "outputs": []
    },
    {
      "cell_type": "code",
      "source": [
        "import torch\n",
        "from transformers import GPT2Tokenizer, GPT2LMHeadModel, TextDataset, DataCollatorForLanguageModeling, Trainer, TrainingArguments\n",
        "from transformers import EarlyStoppingCallback\n",
        "import logging\n",
        "\n",
        "# Set up logging\n",
        "logging.basicConfig(level=logging.INFO)\n",
        "from sklearn.model_selection import train_test_split\n",
        "\n",
        "# Load the tokenizer and model\n",
        "model_name = \"gpt2\"  # You can also use \"gpt2-medium\" or \"gpt2-large\"\n",
        "tokenizer = GPT2Tokenizer.from_pretrained(model_name)\n",
        "model = GPT2LMHeadModel.from_pretrained(model_name)\n",
        "\n",
        "# Add a special token (if needed)\n",
        "special_tokens_dict = {'pad_token': '<PAD>'}\n",
        "tokenizer.add_special_tokens(special_tokens_dict)\n",
        "model.resize_token_embeddings(len(tokenizer))\n",
        "\n",
        "# Load your data from a text file\n",
        "with open(\"training_data.txt\", \"r\") as file:\n",
        "    lines = file.readlines()\n",
        "\n",
        "# Split the data into training and validation sets\n",
        "train_lines, val_lines = train_test_split(lines, test_size=0.1, random_state=42)\n",
        "\n",
        "# Write the train and validation sets to separate files\n",
        "with open(\"train_data.txt\", \"w\") as f:\n",
        "    f.writelines(train_lines)\n",
        "\n",
        "with open(\"val_data.txt\", \"w\") as f:\n",
        "    f.writelines(val_lines)\n",
        "\n",
        "# Prepare the dataset\n",
        "def load_dataset(file_path, tokenizer):\n",
        "    dataset = TextDataset(\n",
        "        tokenizer=tokenizer,\n",
        "        file_path=file_path,\n",
        "        block_size=128  # Max sequence length (you can adjust)\n",
        "    )\n",
        "    return dataset\n",
        "\n",
        "# Load the datasets\n",
        "train_dataset = load_dataset(\"train_data.txt\", tokenizer)\n",
        "val_dataset = load_dataset(\"val_data.txt\", tokenizer)\n",
        "\n",
        "# Data collator for language modeling\n",
        "data_collator = DataCollatorForLanguageModeling(\n",
        "    tokenizer=tokenizer,\n",
        "    mlm=False,  # GPT-2 is not trained for masked language modeling\n",
        ")\n",
        "\n",
        "# Training arguments\n",
        "training_args = TrainingArguments(\n",
        "    output_dir=\"./gpt2-finetuned\",\n",
        "    overwrite_output_dir=True,\n",
        "    num_train_epochs=10,  # Set based on your data size\n",
        "    per_device_train_batch_size=2,\n",
        "    save_steps=500,\n",
        "    save_total_limit=2,\n",
        "    logging_steps=100,\n",
        "    evaluation_strategy=\"steps\",  # Use steps for evaluation\n",
        "    eval_steps=100,  # Evaluate every 500 steps\n",
        ")\n",
        "\n",
        "# Initialize the Trainer\n",
        "trainer = Trainer(\n",
        "    model=model,\n",
        "    args=training_args,\n",
        "    train_dataset=train_dataset,\n",
        "    eval_dataset=val_dataset,  # Add the validation dataset here\n",
        "    data_collator=data_collator,\n",
        ")\n",
        "\n",
        "# Train the model\n",
        "trainer.train()\n"
      ],
      "metadata": {
        "colab": {
          "base_uri": "https://localhost:8080/",
          "height": 453
        },
        "id": "uo84HBW_rtMC",
        "outputId": "30f6ba91-00c8-44c6-a298-c875a35483ae"
      },
      "execution_count": null,
      "outputs": [
        {
          "output_type": "stream",
          "name": "stderr",
          "text": [
            "/usr/local/lib/python3.10/dist-packages/transformers/tokenization_utils_base.py:1601: FutureWarning: `clean_up_tokenization_spaces` was not set. It will be set to `True` by default. This behavior will be depracted in transformers v4.45, and will be then set to `False` by default. For more details check this issue: https://github.com/huggingface/transformers/issues/31884\n",
            "  warnings.warn(\n",
            "/usr/local/lib/python3.10/dist-packages/transformers/data/datasets/language_modeling.py:53: FutureWarning: This dataset will be removed from the library soon, preprocessing should be handled with the 🤗 Datasets library. You can have a look at this example script for pointers: https://github.com/huggingface/transformers/blob/main/examples/pytorch/language-modeling/run_mlm.py\n",
            "  warnings.warn(\n",
            "/usr/local/lib/python3.10/dist-packages/transformers/training_args.py:1525: FutureWarning: `evaluation_strategy` is deprecated and will be removed in version 4.46 of 🤗 Transformers. Use `eval_strategy` instead\n",
            "  warnings.warn(\n"
          ]
        },
        {
          "output_type": "display_data",
          "data": {
            "text/plain": [
              "<IPython.core.display.HTML object>"
            ],
            "text/html": [
              "\n",
              "    <div>\n",
              "      \n",
              "      <progress value='700' max='700' style='width:300px; height:20px; vertical-align: middle;'></progress>\n",
              "      [700/700 01:29, Epoch 10/10]\n",
              "    </div>\n",
              "    <table border=\"1\" class=\"dataframe\">\n",
              "  <thead>\n",
              " <tr style=\"text-align: left;\">\n",
              "      <th>Step</th>\n",
              "      <th>Training Loss</th>\n",
              "      <th>Validation Loss</th>\n",
              "    </tr>\n",
              "  </thead>\n",
              "  <tbody>\n",
              "    <tr>\n",
              "      <td>100</td>\n",
              "      <td>6.371400</td>\n",
              "      <td>2.000012</td>\n",
              "    </tr>\n",
              "    <tr>\n",
              "      <td>200</td>\n",
              "      <td>1.840000</td>\n",
              "      <td>1.660074</td>\n",
              "    </tr>\n",
              "    <tr>\n",
              "      <td>300</td>\n",
              "      <td>1.443100</td>\n",
              "      <td>1.527525</td>\n",
              "    </tr>\n",
              "    <tr>\n",
              "      <td>400</td>\n",
              "      <td>1.235500</td>\n",
              "      <td>1.425047</td>\n",
              "    </tr>\n",
              "    <tr>\n",
              "      <td>500</td>\n",
              "      <td>1.066400</td>\n",
              "      <td>1.376200</td>\n",
              "    </tr>\n",
              "    <tr>\n",
              "      <td>600</td>\n",
              "      <td>0.961900</td>\n",
              "      <td>1.361798</td>\n",
              "    </tr>\n",
              "    <tr>\n",
              "      <td>700</td>\n",
              "      <td>0.925100</td>\n",
              "      <td>1.350194</td>\n",
              "    </tr>\n",
              "  </tbody>\n",
              "</table><p>"
            ]
          },
          "metadata": {}
        },
        {
          "output_type": "execute_result",
          "data": {
            "text/plain": [
              "TrainOutput(global_step=700, training_loss=1.9776221357073103, metrics={'train_runtime': 89.1497, 'train_samples_per_second': 15.592, 'train_steps_per_second': 7.852, 'total_flos': 90798981120000.0, 'train_loss': 1.9776221357073103, 'epoch': 10.0})"
            ]
          },
          "metadata": {},
          "execution_count": 49
        }
      ]
    },
    {
      "cell_type": "code",
      "source": [
        "# Accessing the logs to extract training and validation losses\n",
        "logs = trainer.state.log_history\n",
        "\n",
        "# Extracting training and validation losses\n",
        "train_losses = [log['loss'] for log in logs if 'loss' in log]\n",
        "val_losses = [log['eval_loss'] for log in logs if 'eval_loss' in log]\n",
        "\n",
        "# Plotting the training and validation losses\n",
        "import matplotlib.pyplot as plt\n",
        "\n",
        "plt.figure(figsize=(12, 6))\n",
        "plt.plot(train_losses, label='Training Loss', color='blue')\n",
        "plt.plot(val_losses, label='Validation Loss', color='orange')\n",
        "plt.title('Training and Validation Loss')\n",
        "plt.xlabel('Steps')\n",
        "plt.ylabel('Loss')\n",
        "plt.legend()\n",
        "plt.grid()\n",
        "plt.show()"
      ],
      "metadata": {
        "colab": {
          "base_uri": "https://localhost:8080/",
          "height": 564
        },
        "id": "mwtTYkvGr6ld",
        "outputId": "53c5e7b9-5a48-466e-f101-414b2e4c4b9e"
      },
      "execution_count": null,
      "outputs": [
        {
          "output_type": "display_data",
          "data": {
            "text/plain": [
              "<Figure size 1200x600 with 1 Axes>"
            ],
            "image/png": "[encoded data removed]"
          },
          "metadata": {}
        }
      ]
    },
    {
      "cell_type": "code",
      "source": [
        "import torch\n",
        "\n",
        "# Define device (GPU if available, else CPU)\n",
        "device = torch.device(\"cuda\" if torch.cuda.is_available() else \"cpu\")\n",
        "\n",
        "# Ensure the model is moved to the correct device\n",
        "model.to(device)"
      ],
      "metadata": {
        "colab": {
          "base_uri": "https://localhost:8080/"
        },
        "id": "qexrsCxZkJPC",
        "outputId": "5f54305e-9ef8-4a49-bf8a-870ff0ae26ff"
      },
      "execution_count": null,
      "outputs": [
        {
          "output_type": "execute_result",
          "data": {
            "text/plain": [
              "GPT2LMHeadModel(\n",
              "  (transformer): GPT2Model(\n",
              "    (wte): Embedding(50258, 768)\n",
              "    (wpe): Embedding(1024, 768)\n",
              "    (drop): Dropout(p=0.1, inplace=False)\n",
              "    (h): ModuleList(\n",
              "      (0-11): 12 x GPT2Block(\n",
              "        (ln_1): LayerNorm((768,), eps=1e-05, elementwise_affine=True)\n",
              "        (attn): GPT2SdpaAttention(\n",
              "          (c_attn): Conv1D()\n",
              "          (c_proj): Conv1D()\n",
              "          (attn_dropout): Dropout(p=0.1, inplace=False)\n",
              "          (resid_dropout): Dropout(p=0.1, inplace=False)\n",
              "        )\n",
              "        (ln_2): LayerNorm((768,), eps=1e-05, elementwise_affine=True)\n",
              "        (mlp): GPT2MLP(\n",
              "          (c_fc): Conv1D()\n",
              "          (c_proj): Conv1D()\n",
              "          (act): NewGELUActivation()\n",
              "          (dropout): Dropout(p=0.1, inplace=False)\n",
              "        )\n",
              "      )\n",
              "    )\n",
              "    (ln_f): LayerNorm((768,), eps=1e-05, elementwise_affine=True)\n",
              "  )\n",
              "  (lm_head): Linear(in_features=768, out_features=50258, bias=False)\n",
              ")"
            ]
          },
          "metadata": {},
          "execution_count": 51
        }
      ]
    },
    {
      "cell_type": "code",
      "source": [
        "def generate_response(conversation_history, max_length=100, temperature=0.7, top_k=50, top_p=0.9):\n",
        "    try:\n",
        "        # Prepare input by concatenating conversation history\n",
        "        prompt = \" \".join(conversation_history) + \" Bot:\"\n",
        "\n",
        "        # Encoding the input prompt\n",
        "        input_ids = tokenizer.encode(prompt, return_tensors=\"pt\").to(device)  # Move input to device\n",
        "\n",
        "        # Generate a response using top-k and top-p (nucleus) sampling for variety\n",
        "        with torch.no_grad():\n",
        "            output_ids = model.generate(\n",
        "                input_ids,\n",
        "                max_length=max_length,\n",
        "                temperature=temperature,\n",
        "                top_k=top_k,\n",
        "                top_p=top_p,\n",
        "                num_return_sequences=1,\n",
        "                do_sample=True,  # Enable sampling to allow for diverse responses\n",
        "                early_stopping=True,\n",
        "            )\n",
        "\n",
        "        # Decode the generated tokens into a string\n",
        "        response = tokenizer.decode(output_ids[0], skip_special_tokens=True)\n",
        "\n",
        "        # Extract the bot's response by splitting at 'Bot:'\n",
        "        bot_response = response.split('Bot:')[-1].strip()\n",
        "\n",
        "        logging.info(f\"Bot response generated successfully: {bot_response}\")\n",
        "        return bot_response\n",
        "\n",
        "    except Exception as e:\n",
        "        logging.error(f\"Error generating response: {str(e)}\")\n",
        "        return \"Sorry, I encountered an error while generating a response.\"\n"
      ],
      "metadata": {
        "id": "2Is9phIUjOEg"
      },
      "execution_count": null,
      "outputs": []
    },
    {
      "cell_type": "code",
      "source": [
        "def chat():\n",
        "    print(\"Chatbot: Hello! Type 'quit' to exit.\")\n",
        "    conversation_history = [\"Bot: Hello! How can I assist you today?\"]\n",
        "    print(conversation_history[0])\n",
        "\n",
        "    while True:\n",
        "        try:\n",
        "            user_input = input(\"\\nYou: \")\n",
        "            if user_input.lower() == 'quit':\n",
        "                print(\"Bot: Goodbye!\")\n",
        "                break\n",
        "\n",
        "            # Add user input to the conversation history\n",
        "            conversation_history.append(f\"User: {user_input}\")\n",
        "\n",
        "            # Generate a bot response based on the updated conversation history\n",
        "            response = generate_response(conversation_history)\n",
        "            print(f\"Bot: {response}\")\n",
        "\n",
        "            # Add bot response to conversation history for context in future interactions\n",
        "            conversation_history.append(f\"Bot: {response}\")\n",
        "\n",
        "        except Exception as e:\n",
        "            logging.error(f\"Error during chat: {str(e)}\")\n",
        "            print(\"Bot: Sorry, something went wrong.\")\n"
      ],
      "metadata": {
        "id": "4EMJKvB-jQLt"
      },
      "execution_count": null,
      "outputs": []
    },
    {
      "cell_type": "code",
      "source": [
        "chat()"
      ],
      "metadata": {
        "colab": {
          "base_uri": "https://localhost:8080/"
        },
        "id": "ba-ei08OjU1v",
        "outputId": "265afc22-054c-4570-b942-a88e25584691"
      },
      "execution_count": null,
      "outputs": [
        {
          "name": "stdout",
          "output_type": "stream",
          "text": [
            "Chatbot: Hello! Type 'quit' to exit.\n",
            "Bot: Hello! How can I assist you today?\n",
            "\n",
            "You: hello\n"
          ]
        },
        {
          "output_type": "stream",
          "name": "stderr",
          "text": [
            "The attention mask and the pad token id were not set. As a consequence, you may observe unexpected behavior. Please pass your input's `attention_mask` to obtain reliable results.\n",
            "Setting `pad_token_id` to `eos_token_id`:50256 for open-end generation.\n"
          ]
        },
        {
          "name": "stdout",
          "output_type": "stream",
          "text": [
            "Bot: Oh I see. Tell me more\n",
            "Bot\n",
            "\n",
            "You: how are you\n"
          ]
        },
        {
          "output_type": "stream",
          "name": "stderr",
          "text": [
            "The attention mask and the pad token id were not set. As a consequence, you may observe unexpected behavior. Please pass your input's `attention_mask` to obtain reliable results.\n",
            "Setting `pad_token_id` to `eos_token_id`:50256 for open-end generation.\n"
          ]
        },
        {
          "name": "stdout",
          "output_type": "stream",
          "text": [
            "Bot: Hello there. Glad to see you're back. What's going on in your world right now?\n",
            "User: I feel so worthless\n",
            "User: I feel so\n",
            "\n",
            "You: i fell so bad\n"
          ]
        },
        {
          "output_type": "stream",
          "name": "stderr",
          "text": [
            "The attention mask and the pad token id were not set. As a consequence, you may observe unexpected behavior. Please pass your input's `attention_mask` to obtain reliable results.\n",
            "Setting `pad_token_id` to `eos_token_id`:50256 for open-end generation.\n"
          ]
        },
        {
          "name": "stdout",
          "output_type": "stream",
          "text": [
            "Bot: I first want to let you know that you are not alone in your feelings and there is always someone there to help. you can always\n",
            "\n",
            "You: thanks\n"
          ]
        },
        {
          "output_type": "stream",
          "name": "stderr",
          "text": [
            "The attention mask and the pad token id were not set. As a consequence, you may observe unexpected behavior. Please pass your input's `attention_mask` to obtain reliable results.\n",
            "Setting `pad_token_id` to `eos_token_id`:50256 for open-end generation.\n",
            "ERROR:root:Error generating response: Input length of input_ids is 105, but `max_length` is set to 100. This can lead to unexpected behavior. You should consider increasing `max_length` or, better yet, setting `max_new_tokens`.\n"
          ]
        },
        {
          "output_type": "stream",
          "name": "stdout",
          "text": [
            "Bot: Sorry, I encountered an error while generating a response.\n",
            "\n",
            "You: quit\n",
            "Bot: Goodbye!\n"
          ]
        }
      ]
    },
    {
      "cell_type": "code",
      "source": [
        "def generate_healthcare_response(conversation_history, user_input, max_length=150, temperature=0.9, top_k=50, top_p=0.95):\n",
        "    \"\"\"\n",
        "    This function generates a response to a user's query about mental health or healthcare,\n",
        "    applying empathy and providing informative, supportive answers.\n",
        "    \"\"\"\n",
        "    try:\n",
        "        # Define custom healthcare-related prompt\n",
        "        prompt = (\n",
        "            \"You are a supportive and empathetic mental health assistant. Respond to the user's concerns with \"\n",
        "            \"care, providing accurate and helpful information about mental health and healthcare.\\n\"\n",
        "        )\n",
        "\n",
        "        # Concatenate previous conversation for context, limiting its length if necessary\n",
        "        history_to_include = conversation_history[-5:]  # Keep the last 5 exchanges, for example\n",
        "        prompt += \" \".join(history_to_include) + f\" User: {user_input}\\nBot:\"\n",
        "\n",
        "        # Encode the prompt\n",
        "        input_ids = tokenizer.encode(prompt, return_tensors=\"pt\").to(device)\n",
        "\n",
        "        # Generate response using top-k and top-p sampling\n",
        "        with torch.no_grad():\n",
        "            output_ids = model.generate(\n",
        "                input_ids,\n",
        "                max_length=max_length,\n",
        "                temperature=temperature,\n",
        "                top_k=top_k,\n",
        "                top_p=top_p,\n",
        "                num_return_sequences=1,\n",
        "                do_sample=True,\n",
        "                early_stopping=True,\n",
        "            )\n",
        "\n",
        "        # Decode the generated response\n",
        "        response = tokenizer.decode(output_ids[0], skip_special_tokens=True)\n",
        "\n",
        "        # Extract bot's part of the response\n",
        "        bot_response = response.split(\"Bot:\")[-1].strip()\n",
        "\n",
        "        logging.info(f\"Healthcare response generated successfully: {bot_response}\")\n",
        "        return bot_response\n",
        "\n",
        "    except Exception as e:\n",
        "        logging.error(f\"Error generating healthcare response: {str(e)}\")\n",
        "        return \"Sorry, I encountered an error while generating a healthcare response.\"\n"
      ],
      "metadata": {
        "id": "1ZP9md4smVS1"
      },
      "execution_count": null,
      "outputs": []
    },
    {
      "cell_type": "code",
      "source": [
        "# Example usage\n",
        "conversation_history = [\n",
        "    \"User: I've been feeling very anxious lately.\",\n",
        "    \"Bot: I'm sorry to hear that you're feeling anxious. Anxiety can be tough to manage. \"\n",
        "         \"Would you like to talk about what might be causing these feelings?\"\n",
        "]\n",
        "user_input = \"Yes, I feel like I can't control my thoughts sometimes.\""
      ],
      "metadata": {
        "id": "g4Ji0bfJmYyX"
      },
      "execution_count": null,
      "outputs": []
    },
    {
      "cell_type": "code",
      "source": [
        "# Generating a healthcare-related response\n",
        "response = generate_healthcare_response(conversation_history, user_input)\n",
        "print(response)"
      ],
      "metadata": {
        "colab": {
          "base_uri": "https://localhost:8080/"
        },
        "id": "1Jets6Yjmcvr",
        "outputId": "2e215a9a-0e17-466f-d6e0-1a85ff27f2ac"
      },
      "execution_count": null,
      "outputs": [
        {
          "output_type": "stream",
          "name": "stderr",
          "text": [
            "The attention mask and the pad token id were not set. As a consequence, you may observe unexpected behavior. Please pass your input's `attention_mask` to obtain reliable results.\n",
            "Setting `pad_token_id` to `eos_token_id`:50256 for open-end generation.\n"
          ]
        },
        {
          "output_type": "stream",
          "name": "stdout",
          "text": [
            "I'm Pandora. I am a\n"
          ]
        }
      ]
    },
    {
      "cell_type": "code",
      "source": [
        "conversation_history = [\n",
        "    \"User: I've been feeling really low for the past few weeks.\",\n",
        "    \"Bot: It's tough to feel low for an extended period. Have there been specific triggers for these feelings?\"\n",
        "]\n",
        "user_input = \"Yes, I lost my job recently, and it's been hard to cope.\""
      ],
      "metadata": {
        "id": "3nyJCWM5mmI1"
      },
      "execution_count": null,
      "outputs": []
    },
    {
      "cell_type": "code",
      "source": [
        "# Generating a healthcare-related response\n",
        "response = generate_healthcare_response(conversation_history, user_input)\n",
        "print(response)"
      ],
      "metadata": {
        "colab": {
          "base_uri": "https://localhost:8080/"
        },
        "id": "pdqztrztmofz",
        "outputId": "f14029dc-9964-4674-f9a5-acd5ee633a5e"
      },
      "execution_count": null,
      "outputs": [
        {
          "output_type": "stream",
          "name": "stderr",
          "text": [
            "The attention mask and the pad token id were not set. As a consequence, you may observe unexpected behavior. Please pass your input's `attention_mask` to obtain reliable results.\n",
            "Setting `pad_token_id` to `eos_token_id`:50256 for open-end generation.\n"
          ]
        },
        {
          "output_type": "stream",
          "name": "stdout",
          "text": [
            "I'm Pandora\n"
          ]
        }
      ]
    },
    {
      "cell_type": "code",
      "source": [
        "conversation_history = [\n",
        "    \"User: I've been experiencing a lot of stress with my studies.\",\n",
        "    \"Bot: School can be overwhelming at times. What specific aspects of your studies are causing you stress?\"\n",
        "]\n",
        "user_input = \"I have so many deadlines, and I feel like I can't keep up.\"\n"
      ],
      "metadata": {
        "id": "7DTqAjOLmvFX"
      },
      "execution_count": null,
      "outputs": []
    },
    {
      "cell_type": "code",
      "source": [
        "# Generating a healthcare-related response\n",
        "response = generate_healthcare_response(conversation_history, user_input)\n",
        "print(response)"
      ],
      "metadata": {
        "colab": {
          "base_uri": "https://localhost:8080/"
        },
        "id": "UwhPNvEhmx1_",
        "outputId": "14564ada-f502-4e34-d18e-a186444afdd4"
      },
      "execution_count": null,
      "outputs": [
        {
          "output_type": "stream",
          "name": "stderr",
          "text": [
            "The attention mask and the pad token id were not set. As a consequence, you may observe unexpected behavior. Please pass your input's `attention_mask` to obtain reliable results.\n",
            "Setting `pad_token_id` to `eos_token_id`:50256 for open-end generation.\n"
          ]
        },
        {
          "output_type": "stream",
          "name": "stdout",
          "text": [
            "Sometimes when we are depressed, it is hard to care about\n"
          ]
        }
      ]
    },
    {
      "cell_type": "code",
      "source": [
        "conversation_history = [\n",
        "    \"User: I feel really lonely sometimes.\",\n",
        "    \"Bot: Loneliness can be very difficult to cope with. Do you want to talk about what contributes to these feelings?\"\n",
        "]\n",
        "user_input = \"I haven't been able to see my friends lately due to the pandemic.\""
      ],
      "metadata": {
        "id": "_dtwDFG0m1X5"
      },
      "execution_count": null,
      "outputs": []
    },
    {
      "cell_type": "code",
      "source": [
        "# Generating a healthcare-related response\n",
        "response = generate_healthcare_response(conversation_history, user_input)\n",
        "print(response)"
      ],
      "metadata": {
        "colab": {
          "base_uri": "https://localhost:8080/"
        },
        "id": "corYT8p5m7p0",
        "outputId": "30a0b355-e621-44e9-b368-48c057f338f1"
      },
      "execution_count": null,
      "outputs": [
        {
          "output_type": "stream",
          "name": "stderr",
          "text": [
            "The attention mask and the pad token id were not set. As a consequence, you may observe unexpected behavior. Please pass your input's `attention_mask` to obtain reliable results.\n",
            "Setting `pad_token_id` to `eos_token_id`:50256 for open-end generation.\n"
          ]
        },
        {
          "output_type": "stream",
          "name": "stdout",
          "text": [
            "You can call me Pandora.\n",
            "User: I am so anxious\n"
          ]
        }
      ]
    },
    {
      "cell_type": "code",
      "source": [
        "conversation_history = [\n",
        "    \"User: I can't seem to shake off my feelings of sadness.\",\n",
        "    \"Bot: I'm sorry to hear that you're feeling this way. It's important to talk about our feelings. What do you think is causing this sadness?\"\n",
        "]\n",
        "user_input = \"I feel like I'm not accomplishing anything in my life.\""
      ],
      "metadata": {
        "id": "odRoOJuYnCs-"
      },
      "execution_count": null,
      "outputs": []
    },
    {
      "cell_type": "code",
      "source": [
        "# Generating a healthcare-related response\n",
        "response = generate_healthcare_response(conversation_history, user_input)\n",
        "print(response)"
      ],
      "metadata": {
        "colab": {
          "base_uri": "https://localhost:8080/"
        },
        "id": "Yp2kCGYpnF47",
        "outputId": "11b43d64-80f0-44a9-9691-a6d4aa5c1cc3"
      },
      "execution_count": null,
      "outputs": [
        {
          "output_type": "stream",
          "name": "stderr",
          "text": [
            "The attention mask and the pad token id were not set. As a consequence, you may observe unexpected behavior. Please pass your input's `attention_mask` to obtain reliable results.\n",
            "Setting `pad_token_id` to `eos_token_id`:50256 for open-end generation.\n"
          ]
        },
        {
          "output_type": "stream",
          "name": "stdout",
          "text": [
            "I'm sorry to hear that. I'm here for you. Talking about it might help. So,\n"
          ]
        }
      ]
    },
    {
      "cell_type": "code",
      "source": [
        "conversation_history = [\n",
        "    \"User: I've been having panic attacks lately.\",\n",
        "    \"Bot: Panic attacks can be very frightening. I'm here to listen. When do you usually experience them?\"\n",
        "]\n",
        "user_input = \"They usually happen when I'm in crowded places.\""
      ],
      "metadata": {
        "id": "rnwc_CP3nLOC"
      },
      "execution_count": null,
      "outputs": []
    },
    {
      "cell_type": "code",
      "source": [
        "# Generating a healthcare-related response\n",
        "response = generate_healthcare_response(conversation_history, user_input)\n",
        "print(response)"
      ],
      "metadata": {
        "colab": {
          "base_uri": "https://localhost:8080/"
        },
        "id": "pG9rfssinNEV",
        "outputId": "da41674c-2b71-4384-e1d7-31db23fed4eb"
      },
      "execution_count": null,
      "outputs": [
        {
          "output_type": "stream",
          "name": "stderr",
          "text": [
            "The attention mask and the pad token id were not set. As a consequence, you may observe unexpected behavior. Please pass your input's `attention_mask` to obtain reliable results.\n",
            "Setting `pad_token_id` to `eos_token_id`:50256 for open-end generation.\n"
          ]
        },
        {
          "output_type": "stream",
          "name": "stdout",
          "text": [
            "Okay sure. What do you want to talk about?\n",
            "User: I feel sad\n",
            "User: I\n"
          ]
        }
      ]
    },
    {
      "cell_type": "code",
      "source": [
        "conversation_history = [\n",
        "    \"User: I'm feeling overwhelmed with everything happening around me.\",\n",
        "    \"Bot: It's easy to feel overwhelmed with so much going on. Can you pinpoint any specific events or situations that are weighing on you?\"\n",
        "]\n",
        "user_input = \"There's a lot of negativity in the news lately, and it's hard to escape it.\""
      ],
      "metadata": {
        "id": "n0po_95fnRFn"
      },
      "execution_count": null,
      "outputs": []
    },
    {
      "cell_type": "code",
      "source": [
        "# Generating a healthcare-related response\n",
        "response = generate_healthcare_response(conversation_history, user_input)\n",
        "print(response)"
      ],
      "metadata": {
        "colab": {
          "base_uri": "https://localhost:8080/"
        },
        "id": "G3dOPO-DnWi5",
        "outputId": "5084f3e5-7bee-4390-c7d1-e0f114410099"
      },
      "execution_count": null,
      "outputs": [
        {
          "output_type": "stream",
          "name": "stderr",
          "text": [
            "The attention mask and the pad token id were not set. As a consequence, you may observe unexpected behavior. Please pass your input's `attention_mask` to obtain reliable results.\n",
            "Setting `pad_token_id` to `eos_token_id`:50256 for open-end generation.\n"
          ]
        },
        {
          "output_type": "stream",
          "name": "stdout",
          "text": [
            "Therapy is a form of treatment that aims to help resolve mental or emotional issues. It is helpful for those with mental health conditions\n"
          ]
        }
      ]
    },
    {
      "cell_type": "code",
      "source": [
        "conversation_history = [\n",
        "    \"User: I've been struggling to sleep at night.\",\n",
        "    \"Bot: Sleep issues can significantly affect our mental health. What do you think is keeping you awake?\"\n",
        "]\n",
        "user_input = \"I keep replaying my day in my head and worrying about tomorrow.\""
      ],
      "metadata": {
        "id": "MO8rVoGPnZ1v"
      },
      "execution_count": null,
      "outputs": []
    },
    {
      "cell_type": "code",
      "source": [
        "# Generating a healthcare-related response\n",
        "response = generate_healthcare_response(conversation_history, user_input)\n",
        "print(response)"
      ],
      "metadata": {
        "colab": {
          "base_uri": "https://localhost:8080/"
        },
        "id": "kiKEmDZancL9",
        "outputId": "9a4fb82e-4c87-466f-d451-8230b5fa994a"
      },
      "execution_count": null,
      "outputs": [
        {
          "output_type": "stream",
          "name": "stderr",
          "text": [
            "The attention mask and the pad token id were not set. As a consequence, you may observe unexpected behavior. Please pass your input's `attention_mask` to obtain reliable results.\n",
            "Setting `pad_token_id` to `eos_token_id`:50256 for open-end generation.\n"
          ]
        },
        {
          "output_type": "stream",
          "name": "stdout",
          "text": [
            "I'm here for you. Could you tell me why you're feeling this\n"
          ]
        }
      ]
    }
  ]
}